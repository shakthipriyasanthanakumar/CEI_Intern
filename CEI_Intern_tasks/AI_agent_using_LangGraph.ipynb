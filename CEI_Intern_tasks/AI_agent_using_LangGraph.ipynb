{
  "cells": [
    {
      "cell_type": "code",
      "execution_count": null,
      "metadata": {
        "colab": {
          "base_uri": "https://localhost:8080/"
        },
        "id": "GQN6gZZQk8z_",
        "outputId": "92b485a4-fe17-4bf2-c36d-d8033eff9c2e"
      },
      "outputs": [
        {
          "name": "stdout",
          "output_type": "stream",
          "text": [
            "\u001b[33mWARNING: Skipping kfp as it is not installed.\u001b[0m\u001b[33m\n",
            "\u001b[0m\u001b[33mWARNING: Skipping jupyterlab as it is not installed.\u001b[0m\u001b[33m\n",
            "\u001b[0m\u001b[33mWARNING: Skipping ydata-profiling as it is not installed.\u001b[0m\u001b[33m\n",
            "\u001b[2K     \u001b[90m━━━━━━━━━━━━━━━━━━━━━━━━━━━━━━━━━━━━━━━━\u001b[0m \u001b[32m43.7/43.7 kB\u001b[0m \u001b[31m1.7 MB/s\u001b[0m eta \u001b[36m0:00:00\u001b[0m\n",
            "\u001b[2K   \u001b[90m━━━━━━━━━━━━━━━━━━━━━━━━━━━━━━━━━━━━━━━━\u001b[0m \u001b[32m138.0/138.0 kB\u001b[0m \u001b[31m5.7 MB/s\u001b[0m eta \u001b[36m0:00:00\u001b[0m\n",
            "\u001b[2K   \u001b[90m━━━━━━━━━━━━━━━━━━━━━━━━━━━━━━━━━━━━━━━━\u001b[0m \u001b[32m42.0/42.0 kB\u001b[0m \u001b[31m2.6 MB/s\u001b[0m eta \u001b[36m0:00:00\u001b[0m\n",
            "\u001b[2K   \u001b[90m━━━━━━━━━━━━━━━━━━━━━━━━━━━━━━━━━━━━━━━━\u001b[0m \u001b[32m1.4/1.4 MB\u001b[0m \u001b[31m29.0 MB/s\u001b[0m eta \u001b[36m0:00:00\u001b[0m\n",
            "\u001b[2K   \u001b[90m━━━━━━━━━━━━━━━━━━━━━━━━━━━━━━━━━━━━━━━━\u001b[0m \u001b[32m43.8/43.8 kB\u001b[0m \u001b[31m2.8 MB/s\u001b[0m eta \u001b[36m0:00:00\u001b[0m\n",
            "\u001b[2K   \u001b[90m━━━━━━━━━━━━━━━━━━━━━━━━━━━━━━━━━━━━━━━━\u001b[0m \u001b[32m50.1/50.1 kB\u001b[0m \u001b[31m3.1 MB/s\u001b[0m eta \u001b[36m0:00:00\u001b[0m\n",
            "\u001b[2K   \u001b[90m━━━━━━━━━━━━━━━━━━━━━━━━━━━━━━━━━━━━━━━━\u001b[0m \u001b[32m216.5/216.5 kB\u001b[0m \u001b[31m14.1 MB/s\u001b[0m eta \u001b[36m0:00:00\u001b[0m\n",
            "\u001b[?25h"
          ]
        }
      ],
      "source": [
        "!pip uninstall -qqy kfp jupyterlab libpysal thinc spacy fastai ydata-profiling google-cloud-bigquery google-generativeai\n",
        "!pip install -qU langgraph==0.3.21 langchain-google-genai==2.1.2 langgraph-prebuilt==0.1.7"
      ]
    },
    {
      "cell_type": "code",
      "execution_count": null,
      "metadata": {
        "id": "tW_crvW8ljUb"
      },
      "outputs": [],
      "source": [
        "from langgraph.graph import StateGraph, END\n",
        "from langchain_google_genai import ChatGoogleGenerativeAI\n",
        "from langchain_core.runnables import RunnableLambda"
      ]
    },
    {
      "cell_type": "code",
      "execution_count": null,
      "metadata": {
        "id": "Nid1MgVLl1IW"
      },
      "outputs": [],
      "source": [
        "llm = ChatGoogleGenerativeAI(model=\"gemini-pro\", temperature=0.7)"
      ]
    },
    {
      "cell_type": "code",
      "execution_count": null,
      "metadata": {
        "id": "O8OWn_XJl40V"
      },
      "outputs": [],
      "source": [
        "class OrderState(dict):\n",
        "    customer_name: str = \"\"\n",
        "    coffee_type: str = \"\"\n",
        "    size: str = \"\"\n",
        "    confirmed: bool = False"
      ]
    },
    {
      "cell_type": "code",
      "execution_count": null,
      "metadata": {
        "id": "U7MYIrilyMOl"
      },
      "outputs": [],
      "source": []
    },
    {
      "cell_type": "code",
      "execution_count": null,
      "metadata": {
        "id": "L48aSMjml9Cr"
      },
      "outputs": [],
      "source": [
        "def greet(state):\n",
        "    print(\"👋 Welcome to BaristaBot! What’s your name?\")\n",
        "    return state\n",
        "\n",
        "def take_order(state):\n",
        "    print(f\"Hi {state.get('customer_name')}, what coffee would you like?\")\n",
        "    # Simulate input...\n",
        "    state[\"coffee_type\"] = \"Espresso\"\n",
        "    state[\"size\"] = \"Medium\"\n",
        "    return state\n",
        "\n",
        "def confirm_order(state):\n",
        "    print(f\"☕ Confirming: {state['size']} {state['coffee_type']} for {state['customer_name']}.\")\n",
        "    state[\"confirmed\"] = True\n",
        "    return state\n"
      ]
    },
    {
      "cell_type": "code",
      "execution_count": null,
      "metadata": {
        "id": "7I_l7EeMl_sm"
      },
      "outputs": [],
      "source": [
        "graph = StateGraph(OrderState)\n",
        "graph.add_node(\"greet\", greet)\n",
        "graph.add_node(\"take_order\", take_order)\n",
        "graph.add_node(\"confirm_order\", confirm_order)\n",
        "\n",
        "graph.set_entry_point(\"greet\")\n",
        "graph.add_edge(\"greet\", \"take_order\")\n",
        "graph.add_edge(\"take_order\", \"confirm_order\")\n",
        "graph.add_edge(\"confirm_order\", END)\n",
        "\n",
        "app = graph.compile()"
      ]
    },
    {
      "cell_type": "code",
      "execution_count": null,
      "metadata": {
        "colab": {
          "base_uri": "https://localhost:8080/"
        },
        "id": "Hav_Wq7qmDRE",
        "outputId": "b1c627d2-b032-4ecd-8802-e9ca8c923b09"
      },
      "outputs": [
        {
          "name": "stdout",
          "output_type": "stream",
          "text": [
            "👋 Welcome to BaristaBot! What’s your name?\n",
            "Hi Shakthi, what coffee would you like?\n",
            "☕ Confirming: Medium Espresso for Shakthi.\n"
          ]
        }
      ],
      "source": [
        "order_state = OrderState(customer_name=\"Shakthi\")\n",
        "final_state = app.invoke(order_state)\n"
      ]
    },
    {
      "cell_type": "code",
      "execution_count": null,
      "metadata": {
        "colab": {
          "base_uri": "https://localhost:8080/"
        },
        "id": "VbxhHwhRyNYt",
        "outputId": "debca69b-e1c4-4e28-e939-e5ae70396f9c"
      },
      "outputs": [
        {
          "name": "stdout",
          "output_type": "stream",
          "text": [
            "👋 Welcome to BaristaBot! What’s your name? shakthi\n",
            "Hi shakthi, what coffee would you like? expresso\n",
            "What size would you prefer (Small / Medium / Large)? small\n",
            "☕ Confirming: small expresso for shakthi.\n",
            "Is this correct? (yes/no): yes\n"
          ]
        }
      ],
      "source": [
        "from langgraph.graph import StateGraph, END\n",
        "\n",
        "# Define the state\n",
        "class OrderState(dict):\n",
        "    customer_name: str = \"\"\n",
        "    coffee_type: str = \"\"\n",
        "    size: str = \"\"\n",
        "    confirmed: bool = False\n",
        "\n",
        "# Step 1: Greet the customer and ask for their name\n",
        "def greet(state):\n",
        "    state[\"customer_name\"] = input(\"👋 Welcome to BaristaBot! What’s your name? \")\n",
        "    return state\n",
        "\n",
        "# Step 2: Ask for the coffee order\n",
        "def take_order(state):\n",
        "    state[\"coffee_type\"] = input(f\"Hi {state['customer_name']}, what coffee would you like? \")\n",
        "    state[\"size\"] = input(\"What size would you prefer (Small / Medium / Large)? \")\n",
        "    return state\n",
        "\n",
        "# Step 3: Confirm the order\n",
        "def confirm_order(state):\n",
        "    print(f\"☕ Confirming: {state['size']} {state['coffee_type']} for {state['customer_name']}.\")\n",
        "    confirm = input(\"Is this correct? (yes/no): \").strip().lower()\n",
        "    state[\"confirmed\"] = confirm in [\"yes\", \"y\"]\n",
        "    return state\n",
        "\n",
        "# Step 4: Build the graph\n",
        "graph = StateGraph(OrderState)\n",
        "graph.add_node(\"greet\", greet)\n",
        "graph.add_node(\"take_order\", take_order)\n",
        "graph.add_node(\"confirm_order\", confirm_order)\n",
        "\n",
        "graph.set_entry_point(\"greet\")\n",
        "graph.add_edge(\"greet\", \"take_order\")\n",
        "graph.add_edge(\"take_order\", \"confirm_order\")\n",
        "graph.add_edge(\"confirm_order\", END)\n",
        "\n",
        "# Step 5: Run the bot\n",
        "app = graph.compile()\n",
        "final_state = app.invoke(OrderState())\n"
      ]
    },
    {
      "cell_type": "code",
      "execution_count": null,
      "metadata": {
        "colab": {
          "base_uri": "https://localhost:8080/"
        },
        "id": "8jVPc_xFyxuj",
        "outputId": "93adfc5a-f7b3-46ec-bca5-7e7abc624a6f"
      },
      "outputs": [
        {
          "name": "stdout",
          "output_type": "stream",
          "text": [
            "👋 Welcome to BaristaBot!\n",
            "May I know your name? xyz\n",
            "\n",
            "Hi xyz! What would you like to do?\n",
            "1. See Menu\n",
            "2. Quit\n",
            "Enter your choice (1/2): 1\n",
            "\n",
            "Here's our coffee menu:\n",
            "1. Espresso\n",
            "2. Cappuccino\n",
            "3. Latte\n",
            "4. Americano\n",
            "Please choose a coffee by number: 2\n",
            "What size of Cappuccino would you like?\n",
            "Options: Small / Medium / Large\n",
            "Enter size: small\n",
            "\n",
            "☕ Order Summary for xyz:\n",
            "Small Cappuccino\n",
            "Confirm your order? (yes/no): yes\n"
          ]
        }
      ],
      "source": [
        "from langgraph.graph import StateGraph, END\n",
        "\n",
        "class OrderState(dict):\n",
        "    customer_name: str = \"\"\n",
        "    coffee_type: str = \"\"\n",
        "    size: str = \"\"\n",
        "    confirmed: bool = False\n",
        "    exit: bool = False\n",
        "\n",
        "# Menu to display\n",
        "MENU = {\n",
        "    \"1\": \"Espresso\",\n",
        "    \"2\": \"Cappuccino\",\n",
        "    \"3\": \"Latte\",\n",
        "    \"4\": \"Americano\"\n",
        "}\n",
        "\n",
        "# Greet and get user name\n",
        "def greet(state):\n",
        "    print(\"👋 Welcome to BaristaBot!\")\n",
        "    state[\"customer_name\"] = input(\"May I know your name? \")\n",
        "    return state\n",
        "\n",
        "# Show menu or quit\n",
        "def main_menu(state):\n",
        "    print(f\"\\nHi {state['customer_name']}! What would you like to do?\")\n",
        "    print(\"1. See Menu\")\n",
        "    print(\"2. Quit\")\n",
        "    choice = input(\"Enter your choice (1/2): \")\n",
        "\n",
        "    if choice == \"2\":\n",
        "        print(\"👋 Thank you! Have a great day!\")\n",
        "        state[\"exit\"] = True\n",
        "    return state\n",
        "\n",
        "# Show coffee menu and take order\n",
        "def take_order(state):\n",
        "    print(\"\\nHere's our coffee menu:\")\n",
        "    for key, item in MENU.items():\n",
        "        print(f\"{key}. {item}\")\n",
        "    coffee_choice = input(\"Please choose a coffee by number: \")\n",
        "\n",
        "    if coffee_choice in MENU:\n",
        "        state[\"coffee_type\"] = MENU[coffee_choice]\n",
        "    else:\n",
        "        print(\"Invalid choice, selecting default: Espresso.\")\n",
        "        state[\"coffee_type\"] = \"Espresso\"\n",
        "    return state\n",
        "\n",
        "# Ask for size\n",
        "def choose_size(state):\n",
        "    print(f\"What size of {state['coffee_type']} would you like?\")\n",
        "    print(\"Options: Small / Medium / Large\")\n",
        "    state[\"size\"] = input(\"Enter size: \").capitalize()\n",
        "    return state\n",
        "\n",
        "# Confirm the order\n",
        "def confirm_order(state):\n",
        "    print(f\"\\n☕ Order Summary for {state['customer_name']}:\")\n",
        "    print(f\"{state['size']} {state['coffee_type']}\")\n",
        "    confirm = input(\"Confirm your order? (yes/no): \").lower()\n",
        "    state[\"confirmed\"] = confirm in [\"yes\", \"y\"]\n",
        "    return state\n",
        "\n",
        "# Build LangGraph\n",
        "graph = StateGraph(OrderState)\n",
        "graph.add_node(\"greet\", greet)\n",
        "graph.add_node(\"main_menu\", main_menu)\n",
        "graph.add_node(\"take_order\", take_order)\n",
        "graph.add_node(\"choose_size\", choose_size)\n",
        "graph.add_node(\"confirm_order\", confirm_order)\n",
        "\n",
        "# Entry and transitions\n",
        "graph.set_entry_point(\"greet\")\n",
        "graph.add_edge(\"greet\", \"main_menu\")\n",
        "graph.add_conditional_edges(\n",
        "    \"main_menu\",\n",
        "    lambda s: \"END\" if s.get(\"exit\") else \"take_order\"\n",
        ")\n",
        "graph.add_edge(\"take_order\", \"choose_size\")\n",
        "graph.add_edge(\"choose_size\", \"confirm_order\")\n",
        "graph.add_edge(\"confirm_order\", END)\n",
        "\n",
        "# Compile and run\n",
        "app = graph.compile()\n",
        "final_state = app.invoke(OrderState())\n"
      ]
    },
    {
      "cell_type": "code",
      "execution_count": null,
      "metadata": {
        "colab": {
          "background_save": true,
          "base_uri": "https://localhost:8080/"
        },
        "id": "emzGJsulzWzh",
        "outputId": "ce3024e1-3330-4abd-8909-4b4029b5b2fe"
      },
      "outputs": [
        {
          "name": "stdout",
          "output_type": "stream",
          "text": [
            "👋 Welcome to BaristaBot!\n",
            "\n",
            "Hi abc! What would you like to do?\n",
            "1. See Menu\n",
            "2. Quit\n",
            "\n",
            "Here's our coffee menu:\n",
            "1. Espresso\n",
            "2. Cappuccino\n",
            "3. Latte\n",
            "4. Americano\n",
            "Invalid choice, selecting default: Espresso.\n",
            "What size of Espresso would you like?\n",
            "Options: Small / Medium / Large\n"
          ]
        }
      ],
      "source": [
        "import uuid  # For unique order ID\n",
        "from langgraph.graph import StateGraph, END\n",
        "\n",
        "class OrderState(dict):\n",
        "    customer_name: str = \"\"\n",
        "    coffee_type: str = \"\"\n",
        "    size: str = \"\"\n",
        "    confirmed: bool = False\n",
        "    exit: bool = False\n",
        "    order_id: str = \"\"\n",
        "\n",
        "MENU = {\n",
        "    \"1\": \"Espresso\",\n",
        "    \"2\": \"Cappuccino\",\n",
        "    \"3\": \"Latte\",\n",
        "    \"4\": \"Americano\"\n",
        "}\n",
        "\n",
        "def greet(state):\n",
        "    print(\"👋 Welcome to BaristaBot!\")\n",
        "    state[\"customer_name\"] = input(\"May I know your name? \")\n",
        "    return state\n",
        "\n",
        "def main_menu(state):\n",
        "    print(f\"\\nHi {state['customer_name']}! What would you like to do?\")\n",
        "    print(\"1. See Menu\")\n",
        "    print(\"2. Quit\")\n",
        "    choice = input(\"Enter your choice (1/2): \")\n",
        "\n",
        "    if choice == \"2\":\n",
        "        print(\"👋 Thank you! Have a great day!\")\n",
        "        state[\"exit\"] = True\n",
        "    return state\n",
        "\n",
        "def take_order(state):\n",
        "    print(\"\\nHere's our coffee menu:\")\n",
        "    for key, item in MENU.items():\n",
        "        print(f\"{key}. {item}\")\n",
        "    coffee_choice = input(\"Please choose a coffee by number: \")\n",
        "\n",
        "    if coffee_choice in MENU:\n",
        "        state[\"coffee_type\"] = MENU[coffee_choice]\n",
        "    else:\n",
        "        print(\"Invalid choice, selecting default: Espresso.\")\n",
        "        state[\"coffee_type\"] = \"Espresso\"\n",
        "    return state\n",
        "\n",
        "def choose_size(state):\n",
        "    print(f\"What size of {state['coffee_type']} would you like?\")\n",
        "    print(\"Options: Small / Medium / Large\")\n",
        "    state[\"size\"] = input(\"Enter size: \").capitalize()\n",
        "    return state\n",
        "\n",
        "def confirm_order(state):\n",
        "    print(f\"\\n☕ Order Summary for {state['customer_name']}:\")\n",
        "    print(f\"{state['size']} {state['coffee_type']}\")\n",
        "    confirm = input(\"Confirm your order? (yes/no): \").strip().lower()\n",
        "\n",
        "    if confirm in [\"yes\", \"y\"]:\n",
        "        state[\"confirmed\"] = True\n",
        "        state[\"order_id\"] = str(uuid.uuid4())[:8]  # Short UUID\n",
        "        print(\"\\n🧾 ----- Your Coffee Bill -----\")\n",
        "        print(f\"Order ID   : #{state['order_id']}\")\n",
        "        print(f\"Name       : {state['customer_name']}\")\n",
        "        print(f\"Order      : {state['size']} {state['coffee_type']}\")\n",
        "        print(\"------------------------------\")\n",
        "        print(\"🎉 Thank you for ordering with BaristaBot!\\nEnjoy your drink ☕\")\n",
        "    else:\n",
        "        state[\"confirmed\"] = False\n",
        "        print(\"\\n❌ Order not confirmed.\")\n",
        "        print(\"Would you like to:\")\n",
        "        print(\"1. Reorder\")\n",
        "        print(\"2. Quit\")\n",
        "        retry = input(\"Enter your choice (1/2): \").strip()\n",
        "        if retry == \"2\":\n",
        "            state[\"exit\"] = True\n",
        "    return state\n",
        "\n",
        "\n",
        "# LangGraph definition\n",
        "graph = StateGraph(OrderState)\n",
        "graph.add_node(\"greet\", greet)\n",
        "graph.add_node(\"main_menu\", main_menu)\n",
        "graph.add_node(\"take_order\", take_order)\n",
        "graph.add_node(\"choose_size\", choose_size)\n",
        "graph.add_node(\"confirm_order\", confirm_order)\n",
        "\n",
        "graph.set_entry_point(\"greet\")\n",
        "graph.add_edge(\"greet\", \"main_menu\")\n",
        "graph.add_conditional_edges(\"main_menu\", lambda s: \"END\" if s.get(\"exit\") else \"take_order\")\n",
        "graph.add_edge(\"take_order\", \"choose_size\")\n",
        "graph.add_edge(\"choose_size\", \"confirm_order\")\n",
        "#graph.add_edge(\"confirm_order\", END)\n",
        "graph.add_conditional_edges(\n",
        "    \"confirm_order\",\n",
        "    lambda s: \"END\" if s.get(\"exit\") else (\n",
        "        \"take_order\" if not s.get(\"confirmed\") else END\n",
        "    )\n",
        ")\n",
        "\n",
        "app = graph.compile()\n",
        "final_state = app.invoke(OrderState())\n"
      ]
    }
  ],
  "metadata": {
    "colab": {
      "provenance": []
    },
    "kernelspec": {
      "display_name": "Python 3",
      "name": "python3"
    },
    "language_info": {
      "name": "python"
    }
  },
  "nbformat": 4,
  "nbformat_minor": 0
}